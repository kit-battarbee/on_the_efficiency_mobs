{
  "nbformat": 4,
  "nbformat_minor": 0,
  "metadata": {
    "colab": {
      "name": "clean mobs",
      "provenance": [],
      "collapsed_sections": [],
      "authorship_tag": "ABX9TyMI7aAvZdwzooYTVCLezmJZ",
      "include_colab_link": true
    },
    "kernelspec": {
      "name": "python3",
      "display_name": "Python 3"
    },
    "language_info": {
      "name": "python"
    }
  },
  "cells": [
    {
      "cell_type": "markdown",
      "metadata": {
        "id": "view-in-github",
        "colab_type": "text"
      },
      "source": [
        "<a href=\"https://colab.research.google.com/github/kit-battarbee/on_the_efficiency_mobs/blob/main/mobs_experiments.ipynb\" target=\"_parent\"><img src=\"https://colab.research.google.com/assets/colab-badge.svg\" alt=\"Open In Colab\"/></a>"
      ]
    },
    {
      "cell_type": "markdown",
      "source": [
        ""
      ],
      "metadata": {
        "id": "uCa8pUjV1w2c"
      }
    },
    {
      "cell_type": "code",
      "execution_count": null,
      "metadata": {
        "colab": {
          "base_uri": "https://localhost:8080/"
        },
        "id": "4XoiShHpowWF",
        "outputId": "6403b10e-3912-4ebb-f3fc-ca17927cfcaf"
      },
      "outputs": [
        {
          "output_type": "stream",
          "name": "stdout",
          "text": [
            "Collecting permutation\n",
            "  Downloading permutation-0.3.1-py3-none-any.whl (9.3 kB)\n",
            "Installing collected packages: permutation\n",
            "Successfully installed permutation-0.3.1\n"
          ]
        }
      ],
      "source": [
        "# module for generating automorphism\n",
        "\n",
        "!pip install permutation"
      ]
    },
    {
      "cell_type": "code",
      "execution_count": null,
      "metadata": {
        "id": "tAJ_vlN-mHYA"
      },
      "outputs": [],
      "source": [
        "import math \n",
        "\n",
        "\n",
        "from math import floor, sqrt\n",
        "from random import shuffle, randint\n",
        "from secrets import randbelow\n",
        "from permutation import Permutation\n"
      ]
    },
    {
      "cell_type": "code",
      "execution_count": null,
      "metadata": {
        "id": "IxahKp3jpgC5"
      },
      "outputs": [],
      "source": [
        "# generate random objects\n",
        "\n",
        "def randstring(k):\n",
        "    \"\"\"to define random matrices we need to get random bitstrings, which are the elements of the matrices\"\"\"\n",
        "    string = []\n",
        "    for i in range(k):\n",
        "        m = randint(0,1) ##source of randomness, run each time on iteration for fresh randomness i.e. each element of bitstring independently distributed\n",
        "                         ##this is giving us true / false with p = 1/2\n",
        "        if m == 0:\n",
        "           string.append(False)\n",
        "        if m == 1:\n",
        "           string.append(True)\n",
        "    return string  \n",
        "\n",
        "def rand_bool_mat(n,k): \n",
        "    \"\"\"generate a random n x n matrix over bitstrings length k, intepreted as nested lists of Boolean values\"\"\"\n",
        "    matrix = []\n",
        "    for i in range(n):\n",
        "        matrix.append([]) ##initialise the matrix with n empty rows\n",
        "        for j in range(n):\n",
        "            matrix[i].append(randstring(k)) #in each empty row add n random bitstrings length k\n",
        "    return matrix       \n"
      ]
    },
    {
      "cell_type": "code",
      "execution_count": null,
      "metadata": {
        "id": "M3Ok2P19qOF7"
      },
      "outputs": [],
      "source": [
        "# operations on bitstrings\n",
        "\n",
        "def bitand(a,b):\n",
        "    \"\"\"run the and operation on two bitstrings component-wise\"\"\"\n",
        "    product = []\n",
        "    for i in range(len(a)): \n",
        "           j = a[i] and b[i]\n",
        "           product.append(j)\n",
        "    return product\n",
        "\n",
        "\n",
        "def bitor(a,b):\n",
        "    \"\"\"runs the or operation on two bitstrings component-wise\"\"\"\n",
        "    sum = []\n",
        "    if len(a) != len(b):\n",
        "       return 'Error'\n",
        "    else:\n",
        "       for i in range(len(a)): ## we already checked len(a) = len(b) so we can use either as the upper bound for indexing variable\n",
        "           j = a[i] or b[i]\n",
        "           sum.append(j)\n",
        "    return sum\n",
        "\n",
        "\n"
      ]
    },
    {
      "cell_type": "code",
      "execution_count": null,
      "metadata": {
        "id": "Osj4DfdaqkiU"
      },
      "outputs": [],
      "source": [
        "# matrix multiplication\n",
        "\n",
        "def bitdots(a,b):\n",
        "    \"\"\"to define matrix multiplication it is useful to have a notion of the dot product (note a matrix product element is effectively a row dot product a column); here \n",
        "       define a dot product w.r.t bitor, bitand\"\"\"\n",
        "    d = bitand(a[0],b[0])  ##initial value of d for iteration\n",
        "    for i in range(len(a)-1): ##up to len(a)-1 due to i+1 counter\n",
        "        d = bitor(d, bitand(a[i+1],b[i+1]))\n",
        "    return d\n",
        "\n",
        "def col_mat(a,k):    \n",
        "  \n",
        "    col = []\n",
        "    for i in range(len(a)):\n",
        "        col.append(a[i][k]) ##appends our list with kth entry of every row, which is exactly the kth column\n",
        "    return col\n",
        "\n",
        "def prod_bool_mat(a,b):\n",
        "    prod = []\n",
        "    for i in range(len(a)):\n",
        "        prod.append([]) ##intialise rows of product matrix\n",
        "        for j in range(len(a)):\n",
        "            prod[i].append(bitdots(a[i],col_mat(b,j)))\n",
        "    return prod    \n",
        "\n",
        "def sum_bool_mat(a, b):\n",
        "    sum = []\n",
        "    for i in range(len(a)):\n",
        "        sum.append([])\n",
        "        for j in range(len(a)):\n",
        "            sum[i].append(bitor(a[i][j], b[i][j]))\n",
        "    return sum\n",
        "\n",
        "\n"
      ]
    },
    {
      "cell_type": "code",
      "execution_count": null,
      "metadata": {
        "id": "CD41-wx6sNLJ"
      },
      "outputs": [],
      "source": [
        "# generate high-order bitstring permutation\n",
        "\n",
        "def generate_permutation(size):\n",
        "    \n",
        "    shuffled_nums = [(i + 1) for i in range(size)]\n",
        "    shuffle(shuffled_nums)\n",
        "    \n",
        "    if (size == 2 or size == 3):\n",
        "        return Permutation.cycle(*shuffled_nums)\n",
        "    else:\n",
        "        bool_vals = [True for i in range(2, size)]\n",
        "        subcycle_lengths = []\n",
        "        \n",
        "        j = 0\n",
        "        while(sum(subcycle_lengths) < size and j < size - 2):\n",
        "            if (bool_vals[j] == True):\n",
        "                cur_val = 2\n",
        "                while ((j + 2) * cur_val < size):\n",
        "                    bool_vals[((j + 2) * cur_val) - 2] = False\n",
        "                    cur_val += 1\n",
        "                subcycle_lengths.append(j + 2)\n",
        "            j += 1\n",
        "        \n",
        "        if (sum(subcycle_lengths) > size):\n",
        "            subcycle_lengths.pop()\n",
        "        \n",
        "        perm = Permutation.cycle()\n",
        "        start = 0\n",
        "        for num in subcycle_lengths:\n",
        "            perm *= Permutation.cycle(*shuffled_nums[start:start + num])\n",
        "            start += num\n",
        "            \n",
        "        return perm"
      ]
    },
    {
      "cell_type": "code",
      "execution_count": null,
      "metadata": {
        "id": "qp_HG6XYBXoQ"
      },
      "outputs": [],
      "source": [
        "# generate matrix permutation - needs to be altered manually before running script for different k-values\n",
        "\n",
        "p = generate_permutation(3)"
      ]
    },
    {
      "cell_type": "code",
      "source": [
        "# recover matrix permutation\n",
        "\n",
        "def permute_list(a):\n",
        "    b = []\n",
        "    for i in range(len(a)):\n",
        "        b.append(a[p(i+1)-1]) ## have to adjust indices\n",
        "    return b\n",
        "    \n",
        "def h(a):\n",
        "    b = []\n",
        "    for i in range(len(a)):\n",
        "        b.append([])\n",
        "        for j in range(len(a)):\n",
        "            b[i].append(permute_list(a[i][j]))\n",
        "    return b"
      ],
      "metadata": {
        "id": "ZwF57euGf6Q-"
      },
      "execution_count": null,
      "outputs": []
    },
    {
      "cell_type": "code",
      "execution_count": null,
      "metadata": {
        "id": "79EDnywqv0XA"
      },
      "outputs": [],
      "source": [
        "# generate all test values\n",
        "\n",
        "def convert_string(i,n):\n",
        "    \"\"\"turn a number i into a length n list of true, false values\"\"\"\n",
        "    b = str(bin(i))[2:].zfill(n) ##convert i to binary, remove 0b, pad the front to give appropriate string length\n",
        "    c = []\n",
        "    for j in range(n):\n",
        "        if b[j] == '0': ##needs to be in '' since converted to string\n",
        "           c.append(False)\n",
        "        if b[j] == '1':\n",
        "           c.append(True)\n",
        "    return c      \n",
        "\n",
        "def all_lists(n):\n",
        "    \"\"\"return all possible length n lists of true, false values\"\"\"\n",
        "    lists = []\n",
        "    for i in range(2**n):\n",
        "        lists.append(convert_string(i,n))\n",
        "    return lists\n",
        "\n",
        "def pack(a):\n",
        "    \"\"\"pack a list into a Boolean matrix. Note single values are held in lists for compatibility with multiplication function\"\"\"\n",
        "    mat = []\n",
        "    s = floor(sqrt(len(a))) ## floor to remove float from sqrt(len(a)), indexing will fail if len(a) not square\n",
        "    for i in range(s):\n",
        "        mat.append([]) ## initialise rows\n",
        "        for j in range(s):\n",
        "            mat[i].append([a[i*s+j]])\n",
        "    return mat\n",
        "\n",
        "def all_matrices(k):\n",
        "    \"\"\"compile a list of all k x k single-bit Boolean matrices\"\"\"\n",
        "    matrices = []\n",
        "    b = all_lists(k**2)\n",
        "    for i in range(len(b)):\n",
        "        matrices.append(pack(b[i]))\n",
        "    return matrices\n",
        "\n"
      ]
    },
    {
      "cell_type": "code",
      "execution_count": null,
      "metadata": {
        "id": "8R4BNoRfBxJ6"
      },
      "outputs": [],
      "source": [
        "# semidirect product and exponentiation\n",
        "\n",
        "def compose_permutations(g, h):\n",
        "    return lambda a : h(g(a))\n",
        "    \n",
        "def semidirect_product(tup1, tup2):\n",
        "    perm_mat = tup2[1](tup1[0])\n",
        "    first_elem = prod_bool_mat(perm_mat, tup2[0])\n",
        "    second_elem = compose_permutations(tup1[1],tup2[1])\n",
        "    return (first_elem, second_elem)\n",
        "    \n",
        "def exponentiation(tup,k):\n",
        "    k_binary = bin(k)\n",
        "    value = tup\n",
        "    for digit in range(3,len(k_binary)):\n",
        "        value = semidirect_product(value, value)[:]\n",
        "        if (k_binary[digit] == '1'):\n",
        "           value = semidirect_product(value, tup)[:]\n",
        "    return value "
      ]
    },
    {
      "cell_type": "code",
      "execution_count": null,
      "metadata": {
        "id": "FWV_sIyMCUjT"
      },
      "outputs": [],
      "source": [
        "# generate exchange value for test\n",
        "\n",
        "def generate_A(M,h,x): #M, h need to be predefined\n",
        "    A = exponentiation((M,h),x)\n",
        "    return A[0]\n",
        "\n",
        "    "
      ]
    },
    {
      "cell_type": "code",
      "execution_count": null,
      "metadata": {
        "id": "ELZPPvOPP-Yd"
      },
      "outputs": [],
      "source": [
        "#generate all check matrices separately so it only has to be run once. again has to be altered manually before running depending on n value\n",
        "\n",
        "global mats\n",
        "\n",
        "mats = all_matrices(2)\n"
      ]
    },
    {
      "cell_type": "code",
      "metadata": {
        "id": "1poozdAzo71D"
      },
      "source": [
        "# decompose into direct sum components \n",
        "\n",
        "def pull(k,a):\n",
        "    b = []\n",
        "    for i in range(len(a)):\n",
        "        b.append([])\n",
        "        for j in range(len(a)):\n",
        "            b[i].append([a[i][j][k]])\n",
        "    return b"
      ],
      "execution_count": null,
      "outputs": []
    },
    {
      "cell_type": "code",
      "metadata": {
        "id": "dkL5J0hkChDi"
      },
      "source": [
        "# count solutions to given equation\n",
        "    \n",
        "def count_singlebit_solutions(a, b): ##takes a list of matrices to count solutions from as an input\n",
        "    count = 0\n",
        "    for x in mats:\n",
        "        if a == prod_bool_mat(x, b):\n",
        "           count = count + 1\n",
        "        else:\n",
        "           count = count + 0 \n",
        "    return count\n",
        "\n",
        "def count_solutions(a, b):\n",
        "    count = 1\n",
        "    for i in range(len(a[0][0])):\n",
        "        count = count * count_singlebit_solutions(pull(i, a), pull(i, b))\n",
        "    return count      \n"
      ],
      "execution_count": null,
      "outputs": []
    },
    {
      "cell_type": "code",
      "metadata": {
        "id": "6WtAlDABbecZ"
      },
      "source": [
        "# count size of an orbit\n",
        "\n",
        "def check_membership(M, values):\n",
        "    for x in values:\n",
        "        if M == x:\n",
        "           return 'True'\n",
        "    return False   \n",
        "\n",
        "def count_singlebit_orbit(M):\n",
        "    orbit = []\n",
        "    for y in mats:\n",
        "        if not check_membership(prod_bool_mat(y, M), orbit):\n",
        "           orbit.append(prod_bool_mat(y, M))\n",
        "    return len(orbit)       \n",
        "\n",
        "\n",
        "def count_orbit(M):\n",
        "    n = len(M)\n",
        "    k = len(M[0][0])\n",
        "    orbit_count = 1\n",
        "    for i in range(k):\n",
        "        orbit_count = orbit_count * count_singlebit_orbit(pull(i, M))\n",
        "    return orbit_count\n",
        "\n",
        "def count_orbit_2(M):\n",
        "    n = len(M)\n",
        "    k = len(M[0][0])\n",
        "    orbit_counts = []\n",
        "    for i in range(k):\n",
        "        orbit_counts.append(count_singlebit_orbit(pull(i, M)))\n",
        "    return orbit_counts        "
      ],
      "execution_count": null,
      "outputs": []
    },
    {
      "cell_type": "code",
      "source": [
        "def product(lst):\n",
        "    p = 1\n",
        "    for i in lst:\n",
        "        p *= i\n",
        "    return p"
      ],
      "metadata": {
        "id": "5fgDK-phX9bl"
      },
      "execution_count": null,
      "outputs": []
    },
    {
      "cell_type": "code",
      "source": [
        "def truncate(number, digits) -> float:\n",
        "    stepper = 10.0 ** digits\n",
        "    return math.trunc(stepper * number) / stepper"
      ],
      "metadata": {
        "id": "5EBEjmHfRN7t"
      },
      "execution_count": null,
      "outputs": []
    },
    {
      "cell_type": "code",
      "source": [
        "# experiment 1 - varied exponent\n",
        "\n",
        "M = rand_bool_mat(3, 5)\n",
        "\n",
        "def count_telescope_solutions_1(mat, mat_perm):\n",
        "  x = randint(20, 100)\n",
        "  a = generate_A(M, mat_perm, x)\n",
        "  b = prod_bool_mat(mat_perm(a), M)\n",
        "  sols_list = []\n",
        "  for i in range(len(M[0][0])):\n",
        "    single_sol = count_singlebit_solutions(pull(i, b), pull(i, a))\n",
        "    sols_list.append(single_sol)\n",
        "  return (x, sols_list, product(sols_list))  \n",
        "\n",
        "  \n",
        "\n"
      ],
      "metadata": {
        "id": "rgcqlbT8P0S0"
      },
      "execution_count": null,
      "outputs": []
    },
    {
      "cell_type": "code",
      "source": [
        "# experiment 2 - varied matrix\n",
        "\n",
        "x = 100\n",
        "\n",
        "def count_telescope_solutions_2(mat_size, bs_length, mat_perm, exp):\n",
        "  M = rand_bool_mat(mat_size, bs_length)\n",
        "  a = generate_A(M, mat_perm, exp)\n",
        "  b = prod_bool_mat(mat_perm(a), M)\n",
        "  return M, count_solutions(b, a)"
      ],
      "metadata": {
        "id": "G-OHEYfr2qR-"
      },
      "execution_count": null,
      "outputs": []
    },
    {
      "cell_type": "code",
      "source": [
        "# experiment 3 - varied matrix, recording orbit size\n",
        "\n",
        "x = 100\n",
        "\n",
        "def count_telescope_solutions_3(mat_size, bs_length, mat_perm, exp):\n",
        "  M = rand_bool_mat(mat_size, bs_length)\n",
        "  a = generate_A(M, mat_perm, exp)\n",
        "  b = prod_bool_mat(mat_perm(a), M)\n",
        "  return count_orbit(a), count_solutions(a, b)"
      ],
      "metadata": {
        "id": "y2O18NMR562m"
      },
      "execution_count": null,
      "outputs": []
    },
    {
      "cell_type": "code",
      "source": [
        "# experiment 4 - varied matrix, recording orbit size, discard irregular cases\n",
        "\n",
        "x = 100\n",
        "\n",
        "def count_telescope_solutions_4(mat_size, bs_length, mat_perm, exp):\n",
        "  M = rand_bool_mat(mat_size, bs_length)\n",
        "  a = generate_A(M, mat_perm, exp)\n",
        "  b = prod_bool_mat(mat_perm(a), M)\n",
        "  if count_solutions(b, a) != count_solutions(a,b):\n",
        "    return False, math.log(count_orbit(a)), math.log(count_solutions(b, a))\n",
        "  else:\n",
        "    return True, math.log(count_orbit(a)), math.log(count_solutions(b, a))"
      ],
      "metadata": {
        "id": "PrkXgPJmyW1O"
      },
      "execution_count": null,
      "outputs": []
    },
    {
      "cell_type": "code",
      "metadata": {
        "id": "1hsBMKQtE8ue"
      },
      "source": [
        "outF = open(\"desired_file_name.txt\", \"w\")\n",
        "for i in range(100):\n",
        "  outF.write(str(count_telescope_solutions_4(#n-value, k-value, permutaiton, number of trials)))\n",
        "  outF.write(\"\\n\")\n",
        "outF.close()\n",
        "\n",
        "\n",
        "\n"
      ],
      "execution_count": null,
      "outputs": []
    }
  ]
}